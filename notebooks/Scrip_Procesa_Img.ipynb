{
  "nbformat": 4,
  "nbformat_minor": 0,
  "metadata": {
    "colab": {
      "provenance": []
    },
    "kernelspec": {
      "name": "python3",
      "display_name": "Python 3"
    },
    "language_info": {
      "name": "python"
    }
  },
  "cells": [
    {
      "cell_type": "code",
      "execution_count": 1,
      "metadata": {
        "colab": {
          "base_uri": "https://localhost:8080/"
        },
        "id": "Q_nBuvlsGXdD",
        "outputId": "bd36e763-bb27-4260-a4d8-eebcf60b74c6"
      },
      "outputs": [
        {
          "output_type": "stream",
          "name": "stdout",
          "text": [
            "Requirement already satisfied: opencv-python in /usr/local/lib/python3.10/dist-packages (4.10.0.84)\n",
            "Requirement already satisfied: numpy>=1.21.2 in /usr/local/lib/python3.10/dist-packages (from opencv-python) (1.26.4)\n"
          ]
        }
      ],
      "source": [
        "!pip install opencv-python"
      ]
    },
    {
      "cell_type": "code",
      "source": [
        "import os\n",
        "from PIL import Image\n",
        "import numpy as np\n",
        "import matplotlib.pyplot as plt"
      ],
      "metadata": {
        "id": "D-dLaluDGkMH"
      },
      "execution_count": 42,
      "outputs": []
    },
    {
      "cell_type": "markdown",
      "source": [
        "**IMPORTANTES**\n",
        "\n",
        "**input_dir =** Directorio donde estan la Imagenes\n",
        "\n",
        "**output_dir =** Directorio en donde se Guardaran las Imagenes"
      ],
      "metadata": {
        "id": "dEN97SJAztol"
      }
    },
    {
      "cell_type": "markdown",
      "source": [
        "### **PASO 1 - REDIMENSIONAR LAS IMAGENES**`"
      ],
      "metadata": {
        "id": "tTn9DTGnDyU2"
      }
    },
    {
      "cell_type": "code",
      "source": [
        "# Directorio donde están las imágenes originales\n",
        "input_dir = r'/content/drive/MyDrive/Etiquetado/Scrip_Procesa/IMG'  # Directorio de Imagenes\n",
        "\n",
        "# Directorio donde se guardarán las imágenes redimensionadas\n",
        "output_dir = r'/content/drive/MyDrive/Etiquetado/Scrip_Procesa/IMG_REDI'  # Directorio de salida\n",
        "\n",
        "# Crear el directorio de salida si no existe\n",
        "os.makedirs(output_dir, exist_ok=True)\n",
        "\n",
        "# Tamaño al que se redimensionarán las imágenes\n",
        "nuevo_tamano = (200, 200)\n",
        "\n",
        "# Recorremos todos los archivos en el directorio original\n",
        "for archivo in os.listdir(input_dir):\n",
        "    # Verificamos si es una imagen (puedes agregar más extensiones si es necesario)\n",
        "    if archivo.endswith(('.jpg', '.jpeg', '.png')):\n",
        "        ruta_completa = os.path.join(input_dir, archivo)\n",
        "\n",
        "        try:\n",
        "            # Abrimos la imagen\n",
        "            imagen = Image.open(ruta_completa)\n",
        "\n",
        "            # Redimensionamos la imagen\n",
        "            imagen_redimensionada = imagen.resize(nuevo_tamano)\n",
        "\n",
        "            # Creamos la ruta completa para guardar la imagen redimensionada\n",
        "            ruta_destino = os.path.join(output_dir, archivo)\n",
        "\n",
        "            # Guardamos la imagen redimensionada\n",
        "            imagen_redimensionada.save(ruta_destino)\n",
        "            print(f\"Imagen {archivo} Redimensionada y Guardada en {ruta_destino}\")\n",
        "\n",
        "        except Exception as e:\n",
        "            print(f\"Error al procesar la imagen {archivo}: {e}\")"
      ],
      "metadata": {
        "colab": {
          "base_uri": "https://localhost:8080/"
        },
        "id": "KjxGXk0LBRQa",
        "outputId": "d956a490-9b70-449e-85af-143f5d6d1a59"
      },
      "execution_count": 43,
      "outputs": [
        {
          "output_type": "stream",
          "name": "stdout",
          "text": [
            "Imagen ok_4.jpg redimensionada y guardada en /content/drive/MyDrive/Etiquetado/Scrip_Procesa/IMG_REDI/ok_4.jpg\n",
            "Imagen ok_1.jpg redimensionada y guardada en /content/drive/MyDrive/Etiquetado/Scrip_Procesa/IMG_REDI/ok_1.jpg\n",
            "Imagen ok_2.jpg redimensionada y guardada en /content/drive/MyDrive/Etiquetado/Scrip_Procesa/IMG_REDI/ok_2.jpg\n",
            "Imagen ok_5.jpg redimensionada y guardada en /content/drive/MyDrive/Etiquetado/Scrip_Procesa/IMG_REDI/ok_5.jpg\n",
            "Imagen ok_3.jpg redimensionada y guardada en /content/drive/MyDrive/Etiquetado/Scrip_Procesa/IMG_REDI/ok_3.jpg\n"
          ]
        }
      ]
    },
    {
      "cell_type": "markdown",
      "source": [
        "### **PASO 2 - ROTAR IMAGENES**"
      ],
      "metadata": {
        "id": "BnZU0nTcGsJw"
      }
    },
    {
      "cell_type": "markdown",
      "source": [
        "**ROTACION 45 GRADOS**"
      ],
      "metadata": {
        "id": "DqfEzRAMFeC1"
      }
    },
    {
      "cell_type": "code",
      "source": [
        "# Directorio donde están las imágenes originales\n",
        "input_dir = r'/content/drive/MyDrive/Etiquetado/Scrip_Procesa/IMG_REDI'  # Directorio de Imagenes\n",
        "\n",
        "# Directorio donde se guardarán las imágenes redimensionadas\n",
        "output_dir = r'/content/drive/MyDrive/Etiquetado/Scrip_Procesa/IMG_ROTA_45'  # Directorio de salida\n",
        "\n",
        "# Crear el directorio de salida si no existe\n",
        "os.makedirs(output_dir, exist_ok=True)\n",
        "\n",
        "# Rotación de la imagen utilizando PIL\n",
        "#rotated_image = image.rotate(90)  # Rotar la imagen 45 grados\n",
        "\n",
        "# Recorremos todos los archivos en el directorio original\n",
        "for archivo in os.listdir(input_dir):\n",
        "    # Verificamos si es una imagen (puedes agregar más extensiones si es necesario)\n",
        "    if archivo.endswith(('.jpg', '.jpeg', '.png')):\n",
        "        ruta_completa = os.path.join(input_dir, archivo)\n",
        "\n",
        "        try:\n",
        "            # Abrimos la imagen\n",
        "            imagen = Image.open(ruta_completa)\n",
        "\n",
        "            # Rotar la imagen\n",
        "            rotated_image = imagen.rotate(45)  # Rotar la imagen 45 grados\n",
        "\n",
        "            # Creamos la ruta completa para guardar la imagen Rotada\n",
        "            ruta_destino = os.path.join(output_dir, archivo)\n",
        "\n",
        "            # Guardamos la imagen Rotada\n",
        "            rotated_image.save(ruta_destino)\n",
        "            print(f\"Imagen {archivo} Rotada y Guardada en {ruta_destino}\")\n",
        "\n",
        "        except Exception as e:\n",
        "            print(f\"Error al procesar la imagen {archivo}: {e}\")"
      ],
      "metadata": {
        "colab": {
          "base_uri": "https://localhost:8080/"
        },
        "collapsed": true,
        "id": "JJP_52fwGrSI",
        "outputId": "ddde0e4d-e590-418f-f46c-48a716dc6d3c"
      },
      "execution_count": 52,
      "outputs": [
        {
          "output_type": "stream",
          "name": "stdout",
          "text": [
            "Imagen ok_4.jpg Rotada y Guardada en /content/drive/MyDrive/Etiquetado/Scrip_Procesa/IMG_ROTA_45/ok_4.jpg\n",
            "Imagen ok_1.jpg Rotada y Guardada en /content/drive/MyDrive/Etiquetado/Scrip_Procesa/IMG_ROTA_45/ok_1.jpg\n",
            "Imagen ok_2.jpg Rotada y Guardada en /content/drive/MyDrive/Etiquetado/Scrip_Procesa/IMG_ROTA_45/ok_2.jpg\n",
            "Imagen ok_5.jpg Rotada y Guardada en /content/drive/MyDrive/Etiquetado/Scrip_Procesa/IMG_ROTA_45/ok_5.jpg\n",
            "Imagen ok_3.jpg Rotada y Guardada en /content/drive/MyDrive/Etiquetado/Scrip_Procesa/IMG_ROTA_45/ok_3.jpg\n"
          ]
        }
      ]
    },
    {
      "cell_type": "markdown",
      "source": [
        "**ROTACION 90 GRADOS**"
      ],
      "metadata": {
        "id": "rtz0P-JSFpEn"
      }
    },
    {
      "cell_type": "code",
      "source": [
        "# Directorio donde están las imágenes originales\n",
        "input_dir = r'/content/drive/MyDrive/Etiquetado/Scrip_Procesa/IMG_REDI'  # Directorio de Imagenes\n",
        "\n",
        "# Directorio donde se guardarán las imágenes redimensionadas\n",
        "output_dir = r'/content/drive/MyDrive/Etiquetado/Scrip_Procesa/IMG_ROTA_90'  # Directorio de salida\n",
        "\n",
        "# Crear el directorio de salida si no existe\n",
        "os.makedirs(output_dir, exist_ok=True)\n",
        "\n",
        "# Recorremos todos los archivos en el directorio original\n",
        "for archivo in os.listdir(input_dir):\n",
        "    # Verificamos si es una imagen (puedes agregar más extensiones si es necesario)\n",
        "    if archivo.endswith(('.jpg', '.jpeg', '.png')):\n",
        "        ruta_completa = os.path.join(input_dir, archivo)\n",
        "\n",
        "        try:\n",
        "            # Abrimos la imagen\n",
        "            imagen = Image.open(ruta_completa)\n",
        "\n",
        "            # Rotar la imagen\n",
        "            rotated_image = imagen.rotate(90)  # Rotar la imagen 90 grados\n",
        "\n",
        "            # Creamos la ruta completa para guardar la imagen Rotada\n",
        "            ruta_destino = os.path.join(output_dir, archivo)\n",
        "\n",
        "            # Guardamos la imagen Rotada\n",
        "            rotated_image.save(ruta_destino)\n",
        "            print(f\"Imagen {archivo} Rotada y Guardada en {ruta_destino}\")\n",
        "\n",
        "        except Exception as e:\n",
        "            print(f\"Error al procesar la imagen {archivo}: {e}\")"
      ],
      "metadata": {
        "colab": {
          "base_uri": "https://localhost:8080/"
        },
        "id": "dOwSAxRRGkVq",
        "outputId": "0496f829-bb2f-46a8-ed68-06d3778a9d91"
      },
      "execution_count": 53,
      "outputs": [
        {
          "output_type": "stream",
          "name": "stdout",
          "text": [
            "Imagen ok_4.jpg Rotada y Guardada en /content/drive/MyDrive/Etiquetado/Scrip_Procesa/IMG_ROTA_90/ok_4.jpg\n",
            "Imagen ok_1.jpg Rotada y Guardada en /content/drive/MyDrive/Etiquetado/Scrip_Procesa/IMG_ROTA_90/ok_1.jpg\n",
            "Imagen ok_2.jpg Rotada y Guardada en /content/drive/MyDrive/Etiquetado/Scrip_Procesa/IMG_ROTA_90/ok_2.jpg\n",
            "Imagen ok_5.jpg Rotada y Guardada en /content/drive/MyDrive/Etiquetado/Scrip_Procesa/IMG_ROTA_90/ok_5.jpg\n",
            "Imagen ok_3.jpg Rotada y Guardada en /content/drive/MyDrive/Etiquetado/Scrip_Procesa/IMG_ROTA_90/ok_3.jpg\n"
          ]
        }
      ]
    },
    {
      "cell_type": "markdown",
      "source": [
        "**ROTACION 135 GRADOS**"
      ],
      "metadata": {
        "id": "5Y7bRCthFpo1"
      }
    },
    {
      "cell_type": "code",
      "source": [
        "# Directorio donde están las imágenes originales\n",
        "input_dir = r'/content/drive/MyDrive/Etiquetado/Scrip_Procesa/IMG_REDI'  # Directorio de Imagenes\n",
        "\n",
        "# Directorio donde se guardarán las imágenes redimensionadas\n",
        "output_dir = r'/content/drive/MyDrive/Etiquetado/Scrip_Procesa/IMG_ROTA_135'  # Directorio de salida\n",
        "\n",
        "# Crear el directorio de salida si no existe\n",
        "os.makedirs(output_dir, exist_ok=True)\n",
        "\n",
        "# Recorremos todos los archivos en el directorio original\n",
        "for archivo in os.listdir(input_dir):\n",
        "    # Verificamos si es una imagen (puedes agregar más extensiones si es necesario)\n",
        "    if archivo.endswith(('.jpg', '.jpeg', '.png')):\n",
        "        ruta_completa = os.path.join(input_dir, archivo)\n",
        "\n",
        "        try:\n",
        "            # Abrimos la imagen\n",
        "            imagen = Image.open(ruta_completa)\n",
        "\n",
        "            # Rotar la imagen\n",
        "            rotated_image = imagen.rotate(135)  # Rotar la imagen 135 grados\n",
        "\n",
        "            # Creamos la ruta completa para guardar la imagen Rotada\n",
        "            ruta_destino = os.path.join(output_dir, archivo)\n",
        "\n",
        "            # Guardamos la imagen Rotada\n",
        "            rotated_image.save(ruta_destino)\n",
        "            print(f\"Imagen {archivo} Rotada y Guardada en {ruta_destino}\")\n",
        "\n",
        "        except Exception as e:\n",
        "            print(f\"Error al procesar la imagen {archivo}: {e}\")"
      ],
      "metadata": {
        "colab": {
          "base_uri": "https://localhost:8080/"
        },
        "id": "mBWJl-cHJI91",
        "outputId": "8d7bafbd-7fc2-4382-ef5e-4a8c663ac175"
      },
      "execution_count": 54,
      "outputs": [
        {
          "output_type": "stream",
          "name": "stdout",
          "text": [
            "Imagen ok_4.jpg Rotada y Guardada en /content/drive/MyDrive/Etiquetado/Scrip_Procesa/IMG_ROTA_135/ok_4.jpg\n",
            "Imagen ok_1.jpg Rotada y Guardada en /content/drive/MyDrive/Etiquetado/Scrip_Procesa/IMG_ROTA_135/ok_1.jpg\n",
            "Imagen ok_2.jpg Rotada y Guardada en /content/drive/MyDrive/Etiquetado/Scrip_Procesa/IMG_ROTA_135/ok_2.jpg\n",
            "Imagen ok_5.jpg Rotada y Guardada en /content/drive/MyDrive/Etiquetado/Scrip_Procesa/IMG_ROTA_135/ok_5.jpg\n",
            "Imagen ok_3.jpg Rotada y Guardada en /content/drive/MyDrive/Etiquetado/Scrip_Procesa/IMG_ROTA_135/ok_3.jpg\n"
          ]
        }
      ]
    },
    {
      "cell_type": "markdown",
      "source": [
        "**ROTACION 180 GRADOS**"
      ],
      "metadata": {
        "id": "LOA7-YJbLeIR"
      }
    },
    {
      "cell_type": "code",
      "source": [
        "# Directorio donde están las imágenes originales\n",
        "input_dir = r'/content/drive/MyDrive/Etiquetado/Scrip_Procesa/IMG_REDI'  # Directorio de Imagenes\n",
        "\n",
        "# Directorio donde se guardarán las imágenes redimensionadas\n",
        "output_dir = r'/content/drive/MyDrive/Etiquetado/Scrip_Procesa/IMG_ROTA_180'  # Directorio de salida\n",
        "\n",
        "# Crear el directorio de salida si no existe\n",
        "os.makedirs(output_dir, exist_ok=True)\n",
        "\n",
        "# Recorremos todos los archivos en el directorio original\n",
        "for archivo in os.listdir(input_dir):\n",
        "    # Verificamos si es una imagen (puedes agregar más extensiones si es necesario)\n",
        "    if archivo.endswith(('.jpg', '.jpeg', '.png')):\n",
        "        ruta_completa = os.path.join(input_dir, archivo)\n",
        "\n",
        "        try:\n",
        "            # Abrimos la imagen\n",
        "            imagen = Image.open(ruta_completa)\n",
        "\n",
        "            # Rotar la imagen\n",
        "            rotated_image = imagen.rotate(180)  # Rotar la imagen 180 grados\n",
        "\n",
        "            # Creamos la ruta completa para guardar la imagen Rotada\n",
        "            ruta_destino = os.path.join(output_dir, archivo)\n",
        "\n",
        "            # Guardamos la imagen Rotada\n",
        "            rotated_image.save(ruta_destino)\n",
        "            print(f\"Imagen {archivo} Rotada y Guardada en {ruta_destino}\")\n",
        "\n",
        "        except Exception as e:\n",
        "            print(f\"Error al procesar la imagen {archivo}: {e}\")"
      ],
      "metadata": {
        "colab": {
          "base_uri": "https://localhost:8080/"
        },
        "id": "0aFraEliLht7",
        "outputId": "d5440a42-f35f-4d61-e3cf-5887c38375fc"
      },
      "execution_count": 55,
      "outputs": [
        {
          "output_type": "stream",
          "name": "stdout",
          "text": [
            "Imagen ok_4.jpg Rotada y Guardada en /content/drive/MyDrive/Etiquetado/Scrip_Procesa/IMG_ROTA_180/ok_4.jpg\n",
            "Imagen ok_1.jpg Rotada y Guardada en /content/drive/MyDrive/Etiquetado/Scrip_Procesa/IMG_ROTA_180/ok_1.jpg\n",
            "Imagen ok_2.jpg Rotada y Guardada en /content/drive/MyDrive/Etiquetado/Scrip_Procesa/IMG_ROTA_180/ok_2.jpg\n",
            "Imagen ok_5.jpg Rotada y Guardada en /content/drive/MyDrive/Etiquetado/Scrip_Procesa/IMG_ROTA_180/ok_5.jpg\n",
            "Imagen ok_3.jpg Rotada y Guardada en /content/drive/MyDrive/Etiquetado/Scrip_Procesa/IMG_ROTA_180/ok_3.jpg\n"
          ]
        }
      ]
    },
    {
      "cell_type": "markdown",
      "source": [
        "**ROTACION 225 GRADOS**"
      ],
      "metadata": {
        "id": "W0hSEVFJF3mj"
      }
    },
    {
      "cell_type": "code",
      "source": [
        "# Directorio donde están las imágenes originales\n",
        "input_dir = r'/content/drive/MyDrive/Etiquetado/Scrip_Procesa/IMG_REDI'  # Directorio de Imagenes\n",
        "\n",
        "# Directorio donde se guardarán las imágenes redimensionadas\n",
        "output_dir = r'/content/drive/MyDrive/Etiquetado/Scrip_Procesa/IMG_ROTA_225'  # Directorio de salida\n",
        "\n",
        "# Crear el directorio de salida si no existe\n",
        "os.makedirs(output_dir, exist_ok=True)\n",
        "\n",
        "# Recorremos todos los archivos en el directorio original\n",
        "for archivo in os.listdir(input_dir):\n",
        "    # Verificamos si es una imagen (puedes agregar más extensiones si es necesario)\n",
        "    if archivo.endswith(('.jpg', '.jpeg', '.png')):\n",
        "        ruta_completa = os.path.join(input_dir, archivo)\n",
        "\n",
        "        try:\n",
        "            # Abrimos la imagen\n",
        "            imagen = Image.open(ruta_completa)\n",
        "\n",
        "            # Rotar la imagen\n",
        "            rotated_image = imagen.rotate(225)  # Rotar la imagen 225 grados\n",
        "\n",
        "            # Creamos la ruta completa para guardar la imagen Rotada\n",
        "            ruta_destino = os.path.join(output_dir, archivo)\n",
        "\n",
        "            # Guardamos la imagen Rotada\n",
        "            rotated_image.save(ruta_destino)\n",
        "            print(f\"Imagen {archivo} Rotada y Guardada en {ruta_destino}\")\n",
        "\n",
        "        except Exception as e:\n",
        "            print(f\"Error al procesar la imagen {archivo}: {e}\")"
      ],
      "metadata": {
        "colab": {
          "base_uri": "https://localhost:8080/"
        },
        "id": "T_3-HzqsJNTW",
        "outputId": "af6ab4c9-9572-4fc2-da5f-820a2be70bc7"
      },
      "execution_count": 56,
      "outputs": [
        {
          "output_type": "stream",
          "name": "stdout",
          "text": [
            "Imagen ok_4.jpg Rotada y Guardada en /content/drive/MyDrive/Etiquetado/Scrip_Procesa/IMG_ROTA_225/ok_4.jpg\n",
            "Imagen ok_1.jpg Rotada y Guardada en /content/drive/MyDrive/Etiquetado/Scrip_Procesa/IMG_ROTA_225/ok_1.jpg\n",
            "Imagen ok_2.jpg Rotada y Guardada en /content/drive/MyDrive/Etiquetado/Scrip_Procesa/IMG_ROTA_225/ok_2.jpg\n",
            "Imagen ok_5.jpg Rotada y Guardada en /content/drive/MyDrive/Etiquetado/Scrip_Procesa/IMG_ROTA_225/ok_5.jpg\n",
            "Imagen ok_3.jpg Rotada y Guardada en /content/drive/MyDrive/Etiquetado/Scrip_Procesa/IMG_ROTA_225/ok_3.jpg\n"
          ]
        }
      ]
    },
    {
      "cell_type": "markdown",
      "source": [
        "**ROTACION 270 GRADOS**"
      ],
      "metadata": {
        "id": "OQBP5duuF74J"
      }
    },
    {
      "cell_type": "code",
      "source": [
        "# Directorio donde están las imágenes originales\n",
        "input_dir = r'/content/drive/MyDrive/Etiquetado/Scrip_Procesa/IMG_REDI'  # Directorio de Imagenes\n",
        "\n",
        "# Directorio donde se guardarán las imágenes redimensionadas\n",
        "output_dir = r'/content/drive/MyDrive/Etiquetado/Scrip_Procesa/IMG_ROTA_270'  # Directorio de salida\n",
        "\n",
        "# Crear el directorio de salida si no existe\n",
        "os.makedirs(output_dir, exist_ok=True)\n",
        "\n",
        "# Recorremos todos los archivos en el directorio original\n",
        "for archivo in os.listdir(input_dir):\n",
        "    # Verificamos si es una imagen (puedes agregar más extensiones si es necesario)\n",
        "    if archivo.endswith(('.jpg', '.jpeg', '.png')):\n",
        "        ruta_completa = os.path.join(input_dir, archivo)\n",
        "\n",
        "        try:\n",
        "            # Abrimos la imagen\n",
        "            imagen = Image.open(ruta_completa)\n",
        "\n",
        "            # Rotar la imagen\n",
        "            rotated_image = imagen.rotate(270)  # Rotar la imagen 270 grados\n",
        "\n",
        "            # Creamos la ruta completa para guardar la imagen Rotada\n",
        "            ruta_destino = os.path.join(output_dir, archivo)\n",
        "\n",
        "            # Guardamos la imagen Rotada\n",
        "            rotated_image.save(ruta_destino)\n",
        "            print(f\"Imagen {archivo} Rotada y Guardada en {ruta_destino}\")\n",
        "\n",
        "        except Exception as e:\n",
        "            print(f\"Error al procesar la imagen {archivo}: {e}\")"
      ],
      "metadata": {
        "colab": {
          "base_uri": "https://localhost:8080/"
        },
        "id": "lOT60uA7JPbh",
        "outputId": "039e2b3f-d4d7-41f8-c882-9e03a0f7978a"
      },
      "execution_count": 57,
      "outputs": [
        {
          "output_type": "stream",
          "name": "stdout",
          "text": [
            "Imagen ok_4.jpg Rotada y Guardada en /content/drive/MyDrive/Etiquetado/Scrip_Procesa/IMG_ROTA_270/ok_4.jpg\n",
            "Imagen ok_1.jpg Rotada y Guardada en /content/drive/MyDrive/Etiquetado/Scrip_Procesa/IMG_ROTA_270/ok_1.jpg\n",
            "Imagen ok_2.jpg Rotada y Guardada en /content/drive/MyDrive/Etiquetado/Scrip_Procesa/IMG_ROTA_270/ok_2.jpg\n",
            "Imagen ok_5.jpg Rotada y Guardada en /content/drive/MyDrive/Etiquetado/Scrip_Procesa/IMG_ROTA_270/ok_5.jpg\n",
            "Imagen ok_3.jpg Rotada y Guardada en /content/drive/MyDrive/Etiquetado/Scrip_Procesa/IMG_ROTA_270/ok_3.jpg\n"
          ]
        }
      ]
    },
    {
      "cell_type": "markdown",
      "source": [
        "**ROTACION 315 GRADOS**"
      ],
      "metadata": {
        "id": "z3s8YzqnGAkB"
      }
    },
    {
      "cell_type": "code",
      "source": [
        "# Directorio donde están las imágenes originales\n",
        "input_dir = r'/content/drive/MyDrive/Etiquetado/Scrip_Procesa/IMG_REDI'  # Directorio de Imagenes\n",
        "\n",
        "# Directorio donde se guardarán las imágenes redimensionadas\n",
        "output_dir = r'/content/drive/MyDrive/Etiquetado/Scrip_Procesa/IMG_ROTA_315'  # Directorio de salida\n",
        "\n",
        "# Crear el directorio de salida si no existe\n",
        "os.makedirs(output_dir, exist_ok=True)\n",
        "\n",
        "# Recorremos todos los archivos en el directorio original\n",
        "for archivo in os.listdir(input_dir):\n",
        "    # Verificamos si es una imagen (puedes agregar más extensiones si es necesario)\n",
        "    if archivo.endswith(('.jpg', '.jpeg', '.png')):\n",
        "        ruta_completa = os.path.join(input_dir, archivo)\n",
        "\n",
        "        try:\n",
        "            # Abrimos la imagen\n",
        "            imagen = Image.open(ruta_completa)\n",
        "\n",
        "            # Rotar la imagen\n",
        "            rotated_image = imagen.rotate(315)  # Rotar la imagen 315 grados\n",
        "\n",
        "            # Creamos la ruta completa para guardar la imagen Rotada\n",
        "            ruta_destino = os.path.join(output_dir, archivo)\n",
        "\n",
        "            # Guardamos la imagen Rotada\n",
        "            rotated_image.save(ruta_destino)\n",
        "            print(f\"Imagen {archivo} Rotada y Guardada en {ruta_destino}\")\n",
        "\n",
        "        except Exception as e:\n",
        "            print(f\"Error al procesar la imagen {archivo}: {e}\")"
      ],
      "metadata": {
        "colab": {
          "base_uri": "https://localhost:8080/"
        },
        "id": "BMiVd2QTJReJ",
        "outputId": "8bc66148-0e63-4524-feeb-47723d8d59c2"
      },
      "execution_count": 58,
      "outputs": [
        {
          "output_type": "stream",
          "name": "stdout",
          "text": [
            "Imagen ok_4.jpg Rotada y Guardada en /content/drive/MyDrive/Etiquetado/Scrip_Procesa/IMG_ROTA_315/ok_4.jpg\n",
            "Imagen ok_1.jpg Rotada y Guardada en /content/drive/MyDrive/Etiquetado/Scrip_Procesa/IMG_ROTA_315/ok_1.jpg\n",
            "Imagen ok_2.jpg Rotada y Guardada en /content/drive/MyDrive/Etiquetado/Scrip_Procesa/IMG_ROTA_315/ok_2.jpg\n",
            "Imagen ok_5.jpg Rotada y Guardada en /content/drive/MyDrive/Etiquetado/Scrip_Procesa/IMG_ROTA_315/ok_5.jpg\n",
            "Imagen ok_3.jpg Rotada y Guardada en /content/drive/MyDrive/Etiquetado/Scrip_Procesa/IMG_ROTA_315/ok_3.jpg\n"
          ]
        }
      ]
    },
    {
      "cell_type": "markdown",
      "source": [
        "### **BRILLO DE IMAGENES**"
      ],
      "metadata": {
        "id": "VIbk7fL-G8Yp"
      }
    },
    {
      "cell_type": "code",
      "source": [
        "from PIL import Image, ImageEnhance\n",
        "\n",
        "# Directorio donde están las imágenes originales\n",
        "input_dir = r'/content/drive/MyDrive/Etiquetado/Scrip_Procesa/IMG_REDI'  # Directorio de Imagenes\n",
        "\n",
        "# Directorio donde se guardarán las imágenes redimensionadas\n",
        "output_dir = r'/content/drive/MyDrive/Etiquetado/Scrip_Procesa/IMG_BRILLO'  # Directorio de salida\n",
        "\n",
        "# Crear el directorio de salida si no existe\n",
        "os.makedirs(output_dir, exist_ok=True)\n",
        "\n",
        "# Recorremos todos los archivos en el directorio original\n",
        "for archivo in os.listdir(input_dir):\n",
        "    # Verificamos si es una imagen (puedes agregar más extensiones si es necesario)\n",
        "    if archivo.endswith(('.jpg', '.jpeg', '.png')):\n",
        "        ruta_completa = os.path.join(input_dir, archivo)\n",
        "\n",
        "        try:\n",
        "            # Abrimos la imagen\n",
        "            imagen = Image.open(ruta_completa)\n",
        "\n",
        "            # Billo de la imagen\n",
        "            # Ajustar el brillo\n",
        "            enhancer = ImageEnhance.Brightness(imagen)\n",
        "            brightened_image = enhancer.enhance(1.5)  # Aumentar el brillo en un 50%\n",
        "\n",
        "            # Creamos la ruta completa para guardar la imagen Con Brillo\n",
        "            ruta_destino = os.path.join(output_dir, archivo)\n",
        "\n",
        "            # Guardamos la imagen Con Brillo\n",
        "            brightened_image.save(ruta_destino)\n",
        "            print(f\"Imagen {archivo} Con Brillo Guardada en {ruta_destino}\")\n",
        "\n",
        "        except Exception as e:\n",
        "            print(f\"Error al procesar la imagen {archivo}: {e}\")"
      ],
      "metadata": {
        "colab": {
          "base_uri": "https://localhost:8080/"
        },
        "id": "jORNneMjG5OR",
        "outputId": "29dd0955-a9c4-4639-ea70-cb6cbc9afb79"
      },
      "execution_count": 60,
      "outputs": [
        {
          "output_type": "stream",
          "name": "stdout",
          "text": [
            "Imagen ok_4.jpg Con Brillo Guardada en /content/drive/MyDrive/Etiquetado/Scrip_Procesa/IMG_BRILLO/ok_4.jpg\n",
            "Imagen ok_1.jpg Con Brillo Guardada en /content/drive/MyDrive/Etiquetado/Scrip_Procesa/IMG_BRILLO/ok_1.jpg\n",
            "Imagen ok_2.jpg Con Brillo Guardada en /content/drive/MyDrive/Etiquetado/Scrip_Procesa/IMG_BRILLO/ok_2.jpg\n",
            "Imagen ok_5.jpg Con Brillo Guardada en /content/drive/MyDrive/Etiquetado/Scrip_Procesa/IMG_BRILLO/ok_5.jpg\n",
            "Imagen ok_3.jpg Con Brillo Guardada en /content/drive/MyDrive/Etiquetado/Scrip_Procesa/IMG_BRILLO/ok_3.jpg\n"
          ]
        }
      ]
    },
    {
      "cell_type": "markdown",
      "source": [
        "### **CONTRASTE DE IMAGENES**"
      ],
      "metadata": {
        "id": "JsRqGHuOIILv"
      }
    },
    {
      "cell_type": "code",
      "source": [
        "# Directorio donde están las imágenes originales\n",
        "input_dir = r'/content/drive/MyDrive/Etiquetado/Scrip_Procesa/IMG_REDI'  # Directorio de Imagenes\n",
        "\n",
        "# Directorio donde se guardarán las imágenes redimensionadas\n",
        "output_dir = r'/content/drive/MyDrive/Etiquetado/Scrip_Procesa/IMG_BRILLO'  # Directorio de salida\n",
        "\n",
        "# Crear el directorio de salida si no existe\n",
        "os.makedirs(output_dir, exist_ok=True)\n",
        "\n",
        "# Recorremos todos los archivos en el directorio original\n",
        "for archivo in os.listdir(input_dir):\n",
        "    # Verificamos si es una imagen (puedes agregar más extensiones si es necesario)\n",
        "    if archivo.endswith(('.jpg', '.jpeg', '.png')):\n",
        "        ruta_completa = os.path.join(input_dir, archivo)\n",
        "\n",
        "        try:\n",
        "            # Abrimos la imagen\n",
        "            imagen = Image.open(ruta_completa)\n",
        "\n",
        "            # Ajustar el contraste\n",
        "            contrast_enhancer = ImageEnhance.Contrast(imagen)\n",
        "            contrasted_image = contrast_enhancer.enhance(1.5)  # Aumentar el contraste\n",
        "\n",
        "            # Creamos la ruta completa para guardar la imagen Con Brillo\n",
        "            ruta_destino = os.path.join(output_dir, archivo)\n",
        "\n",
        "            # Guardamos la imagen Con Brillo\n",
        "            contrasted_image.save(ruta_destino)\n",
        "            print(f\"Imagen {archivo} Con Contraste Guardada en {ruta_destino}\")\n",
        "\n",
        "        except Exception as e:\n",
        "            print(f\"Error al procesar la imagen {archivo}: {e}\")"
      ],
      "metadata": {
        "colab": {
          "base_uri": "https://localhost:8080/"
        },
        "id": "Ywo256HlH9cK",
        "outputId": "58a76588-4028-411c-9ae1-5ba88944ab32"
      },
      "execution_count": 64,
      "outputs": [
        {
          "output_type": "stream",
          "name": "stdout",
          "text": [
            "Imagen ok_4.jpg Con Contraste Guardada en /content/drive/MyDrive/Etiquetado/Scrip_Procesa/IMG_BRILLO/ok_4.jpg\n",
            "Imagen ok_1.jpg Con Contraste Guardada en /content/drive/MyDrive/Etiquetado/Scrip_Procesa/IMG_BRILLO/ok_1.jpg\n",
            "Imagen ok_2.jpg Con Contraste Guardada en /content/drive/MyDrive/Etiquetado/Scrip_Procesa/IMG_BRILLO/ok_2.jpg\n",
            "Imagen ok_5.jpg Con Contraste Guardada en /content/drive/MyDrive/Etiquetado/Scrip_Procesa/IMG_BRILLO/ok_5.jpg\n",
            "Imagen ok_3.jpg Con Contraste Guardada en /content/drive/MyDrive/Etiquetado/Scrip_Procesa/IMG_BRILLO/ok_3.jpg\n"
          ]
        }
      ]
    },
    {
      "cell_type": "markdown",
      "source": [
        "**--------------------------------------------------------------------------------------------------------------------------------------------------------------**"
      ],
      "metadata": {
        "id": "xBJRPFm1z5Ob"
      }
    }
  ]
}